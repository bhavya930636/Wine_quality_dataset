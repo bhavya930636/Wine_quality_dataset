{
 "cells": [
  {
   "cell_type": "code",
   "execution_count": 1,
   "id": "e08413b3-1ed4-46c0-b435-eb5efff74ff9",
   "metadata": {},
   "outputs": [
    {
     "name": "stdout",
     "output_type": "stream",
     "text": [
      "      fixed acidity  volatile acidity  citric acid  residual sugar  chlorides  \\\n",
      "0          0.247788          0.397260         0.00        0.068493   0.106845   \n",
      "1          0.283186          0.520548         0.00        0.116438   0.143573   \n",
      "2          0.283186          0.438356         0.04        0.095890   0.133556   \n",
      "3          0.584071          0.109589         0.56        0.068493   0.105175   \n",
      "4          0.247788          0.397260         0.00        0.068493   0.106845   \n",
      "...             ...               ...          ...             ...        ...   \n",
      "1138       0.150442          0.267123         0.13        0.095890   0.106845   \n",
      "1139       0.194690          0.342466         0.08        0.068493   0.093489   \n",
      "1140       0.141593          0.328767         0.08        0.075342   0.130217   \n",
      "1141       0.115044          0.294521         0.10        0.089041   0.083472   \n",
      "1142       0.115044          0.359589         0.12        0.075342   0.105175   \n",
      "\n",
      "      free sulfur dioxide  total sulfur dioxide   density        pH  \\\n",
      "0                0.149254              0.098940  0.567548  0.606299   \n",
      "1                0.358209              0.215548  0.494126  0.362205   \n",
      "2                0.208955              0.169611  0.508811  0.409449   \n",
      "3                0.238806              0.190813  0.582232  0.330709   \n",
      "4                0.149254              0.098940  0.567548  0.606299   \n",
      "...                   ...                   ...       ...       ...   \n",
      "1138             0.417910              0.120141  0.416300  0.535433   \n",
      "1139             0.402985              0.113074  0.472834  0.535433   \n",
      "1140             0.462687              0.134276  0.354626  0.559055   \n",
      "1141             0.567164              0.159011  0.370778  0.614173   \n",
      "1142             0.462687              0.134276  0.396476  0.653543   \n",
      "\n",
      "      sulphates   alcohol  quality    Id  \n",
      "0      0.137725  0.153846        0     0  \n",
      "1      0.209581  0.215385        0     1  \n",
      "2      0.191617  0.215385        0     2  \n",
      "3      0.149701  0.215385        0     3  \n",
      "4      0.137725  0.153846        0     4  \n",
      "...         ...       ...      ...   ...  \n",
      "1138   0.251497  0.400000        0  1592  \n",
      "1139   0.293413  0.169231        0  1593  \n",
      "1140   0.149701  0.323077        0  1594  \n",
      "1141   0.257485  0.430769        0  1595  \n",
      "1142   0.227545  0.276923        0  1597  \n",
      "\n",
      "[1143 rows x 13 columns]\n"
     ]
    }
   ],
   "source": [
    "import pandas as pd\n",
    "\n",
    "# Read the CSV file into a DataFrame\n",
    "df = pd.read_csv('WineQT.csv')\n",
    "\n",
    "# Categorize the 'quality' attribute: 0 for <= 6, 1 for > 6\n",
    "df['quality'] = df['quality'].apply(lambda x: 0 if x <= 6 else 1)\n",
    "\n",
    "# Apply min-max scaling to the other attributes (excluding 'quality' and 'Id')\n",
    "for column in df.columns:\n",
    "    if column not in ['quality', 'Id']:\n",
    "        min_val = df[column].min()\n",
    "        max_val = df[column].max()\n",
    "        df[column] = (df[column] - min_val) / (max_val - min_val)\n",
    "\n",
    "# Save the processed DataFrame to a new CSV file\n",
    "df.to_csv('processed_data.csv', index=False)\n",
    "\n",
    "# Display the processed DataFrame\n",
    "print(df)\n"
   ]
  },
  {
   "cell_type": "code",
   "execution_count": null,
   "id": "a3b6447f-cc56-47ed-9b4a-61d994296b85",
   "metadata": {},
   "outputs": [],
   "source": []
  }
 ],
 "metadata": {
  "kernelspec": {
   "display_name": "Python 3 (ipykernel)",
   "language": "python",
   "name": "python3"
  },
  "language_info": {
   "codemirror_mode": {
    "name": "ipython",
    "version": 3
   },
   "file_extension": ".py",
   "mimetype": "text/x-python",
   "name": "python",
   "nbconvert_exporter": "python",
   "pygments_lexer": "ipython3",
   "version": "3.11.7"
  }
 },
 "nbformat": 4,
 "nbformat_minor": 5
}
